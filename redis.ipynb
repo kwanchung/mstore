{
  "cells": [
    {
      "cell_type": "markdown",
      "metadata": {
        "id": "view-in-github",
        "colab_type": "text"
      },
      "source": [
        "<a href=\"https://colab.research.google.com/github/kwanchung/mstore/blob/master/redis.ipynb\" target=\"_parent\"><img src=\"https://colab.research.google.com/assets/colab-badge.svg\" alt=\"Open In Colab\"/></a>"
      ]
    },
    {
      "cell_type": "code",
      "execution_count": 2,
      "metadata": {
        "colab": {
          "base_uri": "https://localhost:8080/"
        },
        "id": "n1MdWPDYRGeh",
        "outputId": "d9de4421-dcd0-4919-8931-ac7e3d79debc"
      },
      "outputs": [
        {
          "output_type": "stream",
          "name": "stdout",
          "text": [
            "Collecting redis\n",
            "  Downloading redis-5.1.0-py3-none-any.whl.metadata (9.1 kB)\n",
            "Collecting luigi\n",
            "  Downloading luigi-3.5.2.tar.gz (1.2 MB)\n",
            "\u001b[2K     \u001b[90m━━━━━━━━━━━━━━━━━━━━━━━━━━━━━━━━━━━━━━━━\u001b[0m \u001b[32m1.2/1.2 MB\u001b[0m \u001b[31m20.1 MB/s\u001b[0m eta \u001b[36m0:00:00\u001b[0m\n",
            "\u001b[?25h  Preparing metadata (setup.py) ... \u001b[?25l\u001b[?25hdone\n",
            "Requirement already satisfied: more-itertools in /usr/local/lib/python3.10/dist-packages (10.5.0)\n",
            "Requirement already satisfied: async-timeout>=4.0.3 in /usr/local/lib/python3.10/dist-packages (from redis) (4.0.3)\n",
            "Requirement already satisfied: python-dateutil<3,>=2.7.5 in /usr/local/lib/python3.10/dist-packages (from luigi) (2.8.2)\n",
            "Collecting tenacity<9,>=8 (from luigi)\n",
            "  Downloading tenacity-8.5.0-py3-none-any.whl.metadata (1.2 kB)\n",
            "Collecting python-daemon (from luigi)\n",
            "  Downloading python_daemon-3.0.1-py3-none-any.whl.metadata (2.2 kB)\n",
            "Requirement already satisfied: tornado<7,>=5.0 in /usr/local/lib/python3.10/dist-packages (from luigi) (6.3.3)\n",
            "Requirement already satisfied: six>=1.5 in /usr/local/lib/python3.10/dist-packages (from python-dateutil<3,>=2.7.5->luigi) (1.16.0)\n",
            "Requirement already satisfied: docutils in /usr/local/lib/python3.10/dist-packages (from python-daemon->luigi) (0.18.1)\n",
            "Collecting lockfile>=0.10 (from python-daemon->luigi)\n",
            "  Downloading lockfile-0.12.2-py2.py3-none-any.whl.metadata (2.4 kB)\n",
            "Requirement already satisfied: setuptools>=62.4.0 in /usr/local/lib/python3.10/dist-packages (from python-daemon->luigi) (71.0.4)\n",
            "Downloading redis-5.1.0-py3-none-any.whl (261 kB)\n",
            "\u001b[2K   \u001b[90m━━━━━━━━━━━━━━━━━━━━━━━━━━━━━━━━━━━━━━━━\u001b[0m \u001b[32m261.2/261.2 kB\u001b[0m \u001b[31m18.3 MB/s\u001b[0m eta \u001b[36m0:00:00\u001b[0m\n",
            "\u001b[?25hDownloading tenacity-8.5.0-py3-none-any.whl (28 kB)\n",
            "Downloading python_daemon-3.0.1-py3-none-any.whl (31 kB)\n",
            "Downloading lockfile-0.12.2-py2.py3-none-any.whl (13 kB)\n",
            "Building wheels for collected packages: luigi\n",
            "  Building wheel for luigi (setup.py) ... \u001b[?25l\u001b[?25hdone\n",
            "  Created wheel for luigi: filename=luigi-3.5.2-py3-none-any.whl size=1086266 sha256=5ad016cfc951b6b7aa8b69a53a7cbbb056ad744d8ed55bb63c5490b441d1ed38\n",
            "  Stored in directory: /root/.cache/pip/wheels/da/d4/aa/66e30d4b172912c9742b56c1503f0e9ebbad04cb96807e9ba4\n",
            "Successfully built luigi\n",
            "Installing collected packages: lockfile, tenacity, redis, python-daemon, luigi\n",
            "  Attempting uninstall: tenacity\n",
            "    Found existing installation: tenacity 9.0.0\n",
            "    Uninstalling tenacity-9.0.0:\n",
            "      Successfully uninstalled tenacity-9.0.0\n",
            "Successfully installed lockfile-0.12.2 luigi-3.5.2 python-daemon-3.0.1 redis-5.1.0 tenacity-8.5.0\n"
          ]
        }
      ],
      "source": [
        "pip install redis luigi more-itertools"
      ]
    },
    {
      "cell_type": "code",
      "execution_count": null,
      "metadata": {
        "colab": {
          "background_save": true,
          "base_uri": "https://localhost:8080/"
        },
        "id": "WK0xVGVRRJoL",
        "outputId": "4a77b915-1689-4dd4-f37c-ed7d0aa3ccd9"
      },
      "outputs": [
        {
          "ename": "TimeoutException",
          "evalue": "Requesting secret REDIS_URL timed out. Secrets can only be fetched when running from the Colab UI.",
          "output_type": "error",
          "traceback": [
            "\u001b[0;31m---------------------------------------------------------------------------\u001b[0m",
            "\u001b[0;31mTimeoutException\u001b[0m                          Traceback (most recent call last)",
            "\u001b[0;32m<ipython-input-51-397df99030c2>\u001b[0m in \u001b[0;36m<cell line: 5>\u001b[0;34m()\u001b[0m\n\u001b[1;32m      3\u001b[0m \u001b[0;34m\u001b[0m\u001b[0m\n\u001b[1;32m      4\u001b[0m \u001b[0;34m\u001b[0m\u001b[0m\n\u001b[0;32m----> 5\u001b[0;31m \u001b[0mREDIS_URL\u001b[0m \u001b[0;34m=\u001b[0m \u001b[0muserdata\u001b[0m\u001b[0;34m.\u001b[0m\u001b[0mget\u001b[0m\u001b[0;34m(\u001b[0m\u001b[0;34m'REDIS_URL'\u001b[0m\u001b[0;34m)\u001b[0m\u001b[0;34m\u001b[0m\u001b[0;34m\u001b[0m\u001b[0m\n\u001b[0m\u001b[1;32m      6\u001b[0m \u001b[0mclient\u001b[0m \u001b[0;34m=\u001b[0m \u001b[0mredis\u001b[0m\u001b[0;34m.\u001b[0m\u001b[0mfrom_url\u001b[0m\u001b[0;34m(\u001b[0m\u001b[0;34mf'{REDIS_URL}/1?ssl_cert_reqs=none'\u001b[0m\u001b[0;34m)\u001b[0m\u001b[0;34m\u001b[0m\u001b[0;34m\u001b[0m\u001b[0m\n\u001b[1;32m      7\u001b[0m \u001b[0;34m\u001b[0m\u001b[0m\n",
            "\u001b[0;32m/usr/local/lib/python3.10/dist-packages/google/colab/userdata.py\u001b[0m in \u001b[0;36mget\u001b[0;34m(key)\u001b[0m\n\u001b[1;32m     64\u001b[0m     )\n\u001b[1;32m     65\u001b[0m   \u001b[0;32mif\u001b[0m \u001b[0;32mnot\u001b[0m \u001b[0mresp\u001b[0m\u001b[0;34m:\u001b[0m\u001b[0;34m\u001b[0m\u001b[0;34m\u001b[0m\u001b[0m\n\u001b[0;32m---> 66\u001b[0;31m     \u001b[0;32mraise\u001b[0m \u001b[0mTimeoutException\u001b[0m\u001b[0;34m(\u001b[0m\u001b[0mkey\u001b[0m\u001b[0;34m)\u001b[0m\u001b[0;34m\u001b[0m\u001b[0;34m\u001b[0m\u001b[0m\n\u001b[0m\u001b[1;32m     67\u001b[0m   \u001b[0;32mif\u001b[0m \u001b[0;32mnot\u001b[0m \u001b[0mresp\u001b[0m\u001b[0;34m.\u001b[0m\u001b[0mget\u001b[0m\u001b[0;34m(\u001b[0m\u001b[0;34m'exists'\u001b[0m\u001b[0;34m,\u001b[0m \u001b[0;32mFalse\u001b[0m\u001b[0;34m)\u001b[0m\u001b[0;34m:\u001b[0m\u001b[0;34m\u001b[0m\u001b[0;34m\u001b[0m\u001b[0m\n\u001b[1;32m     68\u001b[0m     \u001b[0;32mraise\u001b[0m \u001b[0mSecretNotFoundError\u001b[0m\u001b[0;34m(\u001b[0m\u001b[0mkey\u001b[0m\u001b[0;34m)\u001b[0m\u001b[0;34m\u001b[0m\u001b[0;34m\u001b[0m\u001b[0m\n",
            "\u001b[0;31mTimeoutException\u001b[0m: Requesting secret REDIS_URL timed out. Secrets can only be fetched when running from the Colab UI."
          ]
        }
      ],
      "source": [
        "import redis\n",
        "from google.colab import userdata\n",
        "\n",
        "\n",
        "REDIS_URL = userdata.get('REDIS_URL')\n",
        "client = redis.from_url(f'{REDIS_URL}?ssl_cert_reqs=none')\n",
        "\n",
        "client.keys()"
      ]
    },
    {
      "cell_type": "code",
      "execution_count": 7,
      "metadata": {
        "id": "48rpwPwlRrsK",
        "colab": {
          "base_uri": "https://localhost:8080/"
        },
        "outputId": "a1ae9157-fdcb-41ee-a13d-625049abfaa2"
      },
      "outputs": [
        {
          "output_type": "stream",
          "name": "stderr",
          "text": [
            "DEBUG: Checking if SegmentationFBPCommonTask(func_name=my_function, market=KOR, accounts=[\"account1\", \"account2\"]) is complete\n",
            "DEBUG:luigi-interface:Checking if SegmentationFBPCommonTask(func_name=my_function, market=KOR, accounts=[\"account1\", \"account2\"]) is complete\n",
            "/usr/local/lib/python3.10/dist-packages/luigi/worker.py:426: UserWarning: Task SegmentationFBPCommonTask(func_name=my_function, market=KOR, accounts=[\"account1\", \"account2\"]) without outputs has no custom complete() method\n",
            "  is_complete = task.complete()\n",
            "INFO: Informed scheduler that task   SegmentationFBPCommonTask___account1____ac_my_function_KOR_49309d54ca   has status   PENDING\n",
            "INFO:luigi-interface:Informed scheduler that task   SegmentationFBPCommonTask___account1____ac_my_function_KOR_49309d54ca   has status   PENDING\n",
            "INFO: Done scheduling tasks\n",
            "INFO:luigi-interface:Done scheduling tasks\n",
            "INFO: Running Worker with 1 processes\n",
            "INFO:luigi-interface:Running Worker with 1 processes\n",
            "DEBUG: Asking scheduler for work...\n",
            "DEBUG:luigi-interface:Asking scheduler for work...\n",
            "DEBUG: Pending tasks: 1\n",
            "DEBUG:luigi-interface:Pending tasks: 1\n",
            "INFO: [pid 371] Worker Worker(salt=9388374861, workers=1, host=74f34a7b7ed3, username=root, pid=371) running   SegmentationFBPCommonTask(func_name=my_function, market=KOR, accounts=[\"account1\", \"account2\"])\n",
            "INFO:luigi-interface:[pid 371] Worker Worker(salt=9388374861, workers=1, host=74f34a7b7ed3, username=root, pid=371) running   SegmentationFBPCommonTask(func_name=my_function, market=KOR, accounts=[\"account1\", \"account2\"])\n",
            "INFO: [pid 371] Worker Worker(salt=9388374861, workers=1, host=74f34a7b7ed3, username=root, pid=371) done      SegmentationFBPCommonTask(func_name=my_function, market=KOR, accounts=[\"account1\", \"account2\"])\n",
            "INFO:luigi-interface:[pid 371] Worker Worker(salt=9388374861, workers=1, host=74f34a7b7ed3, username=root, pid=371) done      SegmentationFBPCommonTask(func_name=my_function, market=KOR, accounts=[\"account1\", \"account2\"])\n",
            "DEBUG: 1 running tasks, waiting for next task to finish\n",
            "DEBUG:luigi-interface:1 running tasks, waiting for next task to finish\n",
            "INFO: Informed scheduler that task   SegmentationFBPCommonTask___account1____ac_my_function_KOR_49309d54ca   has status   DONE\n",
            "INFO:luigi-interface:Informed scheduler that task   SegmentationFBPCommonTask___account1____ac_my_function_KOR_49309d54ca   has status   DONE\n",
            "DEBUG: Asking scheduler for work...\n",
            "DEBUG:luigi-interface:Asking scheduler for work...\n",
            "DEBUG: Done\n",
            "DEBUG:luigi-interface:Done\n",
            "DEBUG: There are no more tasks to run at this time\n",
            "DEBUG:luigi-interface:There are no more tasks to run at this time\n",
            "INFO: Worker Worker(salt=9388374861, workers=1, host=74f34a7b7ed3, username=root, pid=371) was stopped. Shutting down Keep-Alive thread\n",
            "INFO:luigi-interface:Worker Worker(salt=9388374861, workers=1, host=74f34a7b7ed3, username=root, pid=371) was stopped. Shutting down Keep-Alive thread\n",
            "INFO: \n",
            "===== Luigi Execution Summary =====\n",
            "\n",
            "Scheduled 1 tasks of which:\n",
            "* 1 ran successfully:\n",
            "    - 1 SegmentationFBPCommonTask(func_name=my_function, market=KOR, accounts=[\"account1\", \"account2\"])\n",
            "\n",
            "This progress looks :) because there were no failed tasks or missing dependencies\n",
            "\n",
            "===== Luigi Execution Summary =====\n",
            "\n",
            "INFO:luigi-interface:\n",
            "===== Luigi Execution Summary =====\n",
            "\n",
            "Scheduled 1 tasks of which:\n",
            "* 1 ran successfully:\n",
            "    - 1 SegmentationFBPCommonTask(func_name=my_function, market=KOR, accounts=[\"account1\", \"account2\"])\n",
            "\n",
            "This progress looks :) because there were no failed tasks or missing dependencies\n",
            "\n",
            "===== Luigi Execution Summary =====\n",
            "\n"
          ]
        },
        {
          "output_type": "stream",
          "name": "stdout",
          "text": [
            "Processing KOR for accounts: account1, account2\n"
          ]
        }
      ],
      "source": [
        "import luigi\n",
        "\n",
        "class SegmentationFBPCommonTask(luigi.Task):\n",
        "    func_name = luigi.Parameter()  # Accept function name as a parameter\n",
        "    market = luigi.Parameter()      # Market parameter\n",
        "    accounts = luigi.ListParameter(default=None)   # List of accounts\n",
        "\n",
        "    def run(self):\n",
        "        # Retrieve the function by name\n",
        "        func = getattr(self, self.func_name)\n",
        "        # Call the retrieved function with parameters\n",
        "        result = func(self.market, self.accounts)\n",
        "        print(result)\n",
        "\n",
        "    def my_function(self, market, accounts):\n",
        "        return f\"Processing {market} for accounts: {', '.join(accounts)}\"\n",
        "if __name__ == '__main__':\n",
        "    luigi.build([SegmentationFBPCommonTask(func_name='my_function', market='KOR', accounts=['account1', 'account2'])], local_scheduler=True)"
      ]
    },
    {
      "cell_type": "code",
      "source": [
        "from more_itertools import chunked\n",
        "\n",
        "accounts = [0, 1, 2, 3, 4, 5, 6, 7, 8, 9, 10, 11, 12, 13, 14, 15, 16, 17, 18, 19, 20, 21, 22, 23, 24, 25, 26, 27, 28, 29, 30, 31, 32, 33, 34, 35, 36, 37, 38, 39, 40, 41, 42, 43, 44, 45, 46, 47, 48, 49, 50, 51, 52, 53, 54, 55, 56, 57, 58, 59, 60, 61, 62, 63, 64, 65, 66, 67, 68, 69, 70, 71, 72, 73, 74, 75, 76, 77, 78, 79, 80, 81, 82, 83, 84, 85, 86, 87, 88, 89, 90, 91, 92, 93, 94, 95, 96, 97, 98, 99, 100, 101, 102, 103, 104, 105, 106, 107, 108, 109, 110, 111, 112, 113, 114, 115, 116, 117, 118, 119, 120, 121, 122, 123, 124, 125, 126, 127, 128, 129, 130, 131, 132, 133, 134, 135, 136, 137, 138, 139, 140, 141, 142, 143, 144, 145, 146, 147, 148, 149, 150, 151, 152, 153, 154, 155, 156, 157, 158, 159, 160, 161, 162, 163, 164, 165, 166, 167, 168, 169, 170, 171, 172, 173, 174, 175, 176, 177, 178, 179, 180, 181, 182, 183, 184, 185, 186, 187, 188, 189, 190, 191, 192, 193, 194, 195, 196, 197, 198, 199, 200, 201, 202, 203, 204, 205, 206, 207, 208, 209, 210, 211, 212, 213, 214, 215, 216, 217, 218, 219, 220, 221, 222, 223, 224, 225, 226, 227, 228, 229, 230, 231, 232, 233, 234, 235, 236, 237, 238, 239, 240, 241, 242, 243, 244, 245, 246, 247, 248, 249, 250, 251, 252, 253, 254, 255, 256, 257, 258, 259, 260, 261, 262, 263, 264, 265, 266, 267, 268, 269, 270, 271, 272, 273, 274, 275, 276, 277, 278, 279, 280, 281, 282, 283, 284, 285, 286, 287, 288, 289, 290, 291, 292, 293, 294, 295, 296, 297, 298, 299, 300, 301, 302, 303, 304, 305, 306, 307, 308, 309, 310, 311, 312, 313, 314, 315, 316, 317, 318, 319, 320, 321, 322, 323, 324, 325, 326, 327, 328, 329, 330, 331, 332, 333, 334, 335, 336, 337, 338, 339, 340, 341, 342, 343, 344, 345, 346, 347, 348, 349, 350, 351, 352, 353, 354, 355, 356, 357, 358, 359, 360, 361, 362, 363, 364, 365, 366, 367, 368, 369, 370, 371, 372, 373, 374, 375, 376, 377, 378, 379, 380, 381, 382, 383, 384, 385, 386, 387, 388, 389, 390, 391, 392, 393, 394, 395, 396, 397, 398, 399, 400, 401, 402, 403, 404, 405, 406, 407, 408, 409, 410, 411, 412, 413, 414, 415, 416, 417, 418, 419, 420, 421, 422, 423, 424, 425, 426, 427, 428, 429, 430, 431, 432, 433, 434, 435, 436, 437, 438, 439, 440, 441, 442, 443, 444, 445, 446, 447, 448, 449, 450, 451, 452, 453, 454, 455, 456, 457, 458, 459, 460, 461, 462, 463, 464, 465, 466, 467, 468, 469, 470, 471, 472, 473, 474, 475, 476, 477, 478, 479, 480, 481, 482, 483, 484, 485, 486, 487, 488, 489, 490, 491, 492, 493, 494, 495, 496, 497, 498, 499, 500, 501, 502, 503, 504, 505, 506, 507, 508, 509, 510, 511, 512, 513, 514, 515, 516, 517, 518, 519, 520, 521, 522, 523, 524, 525, 526, 527, 528, 529, 530, 531, 532, 533, 534, 535, 536, 537, 538, 539, 540, 541, 542, 543, 544, 545, 546, 547, 548, 549, 550, 551, 552, 553, 554, 555, 556, 557, 558, 559, 560, 561, 562, 563, 564, 565, 566, 567, 568, 569, 570, 571, 572, 573, 574, 575, 576, 577, 578, 579, 580, 581, 582, 583, 584, 585, 586, 587, 588, 589, 590, 591, 592, 593, 594, 595, 596, 597, 598, 599, 600, 601, 602, 603, 604, 605, 606, 607, 608, 609, 610, 611, 612, 613, 614, 615, 616, 617, 618, 619, 620, 621, 622, 623, 624, 625, 626, 627, 628, 629, 630, 631, 632, 633, 634, 635, 636, 637, 638, 639, 640, 641, 642, 643, 644, 645, 646, 647, 648, 649, 650, 651, 652, 653, 654, 655, 656, 657, 658, 659, 660, 661, 662, 663, 664, 665, 666, 667, 668, 669, 670, 671, 672, 673, 674, 675, 676, 677, 678, 679, 680, 681, 682, 683, 684, 685, 686, 687, 688, 689, 690, 691, 692, 693, 694, 695, 696, 697, 698, 699, 700, 701, 702, 703, 704, 705, 706, 707, 708, 709, 710, 711, 712, 713, 714, 715, 716, 717, 718, 719, 720, 721, 722, 723, 724, 725, 726, 727, 728, 729, 730, 731, 732, 733, 734, 735, 736, 737, 738, 739, 740, 741, 742, 743, 744, 745, 746, 747, 748, 749, 750, 751, 752, 753, 754, 755, 756, 757, 758, 759, 760, 761, 762, 763, 764, 765, 766, 767, 768, 769, 770, 771, 772, 773, 774, 775, 776, 777, 778, 779, 780, 781, 782, 783, 784, 785, 786, 787, 788, 789, 790, 791, 792, 793, 794, 795, 796, 797, 798, 799, 800, 801, 802, 803, 804, 805, 806, 807, 808, 809, 810, 811, 812, 813, 814, 815, 816, 817, 818, 819, 820, 821, 822, 823, 824, 825, 826, 827, 828, 829, 830, 831, 832, 833, 834, 835, 836, 837, 838, 839, 840, 841, 842, 843, 844, 845, 846, 847, 848, 849, 850, 851, 852, 853, 854, 855, 856, 857, 858, 859, 860, 861, 862, 863, 864, 865, 866, 867, 868, 869, 870, 871, 872, 873, 874, 875, 876, 877, 878, 879, 880, 881, 882, 883, 884, 885, 886, 887, 888, 889, 890, 891, 892, 893, 894, 895, 896, 897, 898, 899, 900, 901, 902, 903, 904, 905, 906, 907, 908, 909, 910, 911, 912, 913, 914, 915, 916, 917, 918, 919, 920, 921, 922, 923, 924, 925, 926, 927, 928, 929, 930, 931, 932, 933, 934, 935, 936, 937, 938, 939, 940, 941, 942, 943, 944, 945, 946, 947, 948, 949, 950, 951, 952, 953, 954, 955, 956, 957, 958, 959, 960, 961, 962, 963, 964, 965, 966, 967, 968, 969, 970, 971, 972, 973, 974, 975, 976, 977, 978, 979, 980, 981, 982, 983, 984, 985, 986, 987, 988, 989, 990, 991, 992, 993, 994, 995, 996, 997, 998, 999]\n",
        "list_chunked_acc = list(chunked(accounts, 100))\n",
        "for i, chunkAcc in enumerate(list_chunked_acc):\n",
        "  print(chunkAcc)\n",
        "\n",
        "test = [0, 1, 2, 3, 4, 5, 6, 7, 8, 9, 10]\n",
        "print(set(test))"
      ],
      "metadata": {
        "colab": {
          "base_uri": "https://localhost:8080/"
        },
        "id": "EISA7uLrL7jG",
        "outputId": "a6b862be-29d3-4c4f-d6a7-a4ea53809060"
      },
      "execution_count": 6,
      "outputs": [
        {
          "output_type": "stream",
          "name": "stdout",
          "text": [
            "[0, 1, 2, 3, 4, 5, 6, 7, 8, 9, 10, 11, 12, 13, 14, 15, 16, 17, 18, 19, 20, 21, 22, 23, 24, 25, 26, 27, 28, 29, 30, 31, 32, 33, 34, 35, 36, 37, 38, 39, 40, 41, 42, 43, 44, 45, 46, 47, 48, 49, 50, 51, 52, 53, 54, 55, 56, 57, 58, 59, 60, 61, 62, 63, 64, 65, 66, 67, 68, 69, 70, 71, 72, 73, 74, 75, 76, 77, 78, 79, 80, 81, 82, 83, 84, 85, 86, 87, 88, 89, 90, 91, 92, 93, 94, 95, 96, 97, 98, 99]\n",
            "[100, 101, 102, 103, 104, 105, 106, 107, 108, 109, 110, 111, 112, 113, 114, 115, 116, 117, 118, 119, 120, 121, 122, 123, 124, 125, 126, 127, 128, 129, 130, 131, 132, 133, 134, 135, 136, 137, 138, 139, 140, 141, 142, 143, 144, 145, 146, 147, 148, 149, 150, 151, 152, 153, 154, 155, 156, 157, 158, 159, 160, 161, 162, 163, 164, 165, 166, 167, 168, 169, 170, 171, 172, 173, 174, 175, 176, 177, 178, 179, 180, 181, 182, 183, 184, 185, 186, 187, 188, 189, 190, 191, 192, 193, 194, 195, 196, 197, 198, 199]\n",
            "[200, 201, 202, 203, 204, 205, 206, 207, 208, 209, 210, 211, 212, 213, 214, 215, 216, 217, 218, 219, 220, 221, 222, 223, 224, 225, 226, 227, 228, 229, 230, 231, 232, 233, 234, 235, 236, 237, 238, 239, 240, 241, 242, 243, 244, 245, 246, 247, 248, 249, 250, 251, 252, 253, 254, 255, 256, 257, 258, 259, 260, 261, 262, 263, 264, 265, 266, 267, 268, 269, 270, 271, 272, 273, 274, 275, 276, 277, 278, 279, 280, 281, 282, 283, 284, 285, 286, 287, 288, 289, 290, 291, 292, 293, 294, 295, 296, 297, 298, 299]\n",
            "[300, 301, 302, 303, 304, 305, 306, 307, 308, 309, 310, 311, 312, 313, 314, 315, 316, 317, 318, 319, 320, 321, 322, 323, 324, 325, 326, 327, 328, 329, 330, 331, 332, 333, 334, 335, 336, 337, 338, 339, 340, 341, 342, 343, 344, 345, 346, 347, 348, 349, 350, 351, 352, 353, 354, 355, 356, 357, 358, 359, 360, 361, 362, 363, 364, 365, 366, 367, 368, 369, 370, 371, 372, 373, 374, 375, 376, 377, 378, 379, 380, 381, 382, 383, 384, 385, 386, 387, 388, 389, 390, 391, 392, 393, 394, 395, 396, 397, 398, 399]\n",
            "[400, 401, 402, 403, 404, 405, 406, 407, 408, 409, 410, 411, 412, 413, 414, 415, 416, 417, 418, 419, 420, 421, 422, 423, 424, 425, 426, 427, 428, 429, 430, 431, 432, 433, 434, 435, 436, 437, 438, 439, 440, 441, 442, 443, 444, 445, 446, 447, 448, 449, 450, 451, 452, 453, 454, 455, 456, 457, 458, 459, 460, 461, 462, 463, 464, 465, 466, 467, 468, 469, 470, 471, 472, 473, 474, 475, 476, 477, 478, 479, 480, 481, 482, 483, 484, 485, 486, 487, 488, 489, 490, 491, 492, 493, 494, 495, 496, 497, 498, 499]\n",
            "[500, 501, 502, 503, 504, 505, 506, 507, 508, 509, 510, 511, 512, 513, 514, 515, 516, 517, 518, 519, 520, 521, 522, 523, 524, 525, 526, 527, 528, 529, 530, 531, 532, 533, 534, 535, 536, 537, 538, 539, 540, 541, 542, 543, 544, 545, 546, 547, 548, 549, 550, 551, 552, 553, 554, 555, 556, 557, 558, 559, 560, 561, 562, 563, 564, 565, 566, 567, 568, 569, 570, 571, 572, 573, 574, 575, 576, 577, 578, 579, 580, 581, 582, 583, 584, 585, 586, 587, 588, 589, 590, 591, 592, 593, 594, 595, 596, 597, 598, 599]\n",
            "[600, 601, 602, 603, 604, 605, 606, 607, 608, 609, 610, 611, 612, 613, 614, 615, 616, 617, 618, 619, 620, 621, 622, 623, 624, 625, 626, 627, 628, 629, 630, 631, 632, 633, 634, 635, 636, 637, 638, 639, 640, 641, 642, 643, 644, 645, 646, 647, 648, 649, 650, 651, 652, 653, 654, 655, 656, 657, 658, 659, 660, 661, 662, 663, 664, 665, 666, 667, 668, 669, 670, 671, 672, 673, 674, 675, 676, 677, 678, 679, 680, 681, 682, 683, 684, 685, 686, 687, 688, 689, 690, 691, 692, 693, 694, 695, 696, 697, 698, 699]\n",
            "[700, 701, 702, 703, 704, 705, 706, 707, 708, 709, 710, 711, 712, 713, 714, 715, 716, 717, 718, 719, 720, 721, 722, 723, 724, 725, 726, 727, 728, 729, 730, 731, 732, 733, 734, 735, 736, 737, 738, 739, 740, 741, 742, 743, 744, 745, 746, 747, 748, 749, 750, 751, 752, 753, 754, 755, 756, 757, 758, 759, 760, 761, 762, 763, 764, 765, 766, 767, 768, 769, 770, 771, 772, 773, 774, 775, 776, 777, 778, 779, 780, 781, 782, 783, 784, 785, 786, 787, 788, 789, 790, 791, 792, 793, 794, 795, 796, 797, 798, 799]\n",
            "[800, 801, 802, 803, 804, 805, 806, 807, 808, 809, 810, 811, 812, 813, 814, 815, 816, 817, 818, 819, 820, 821, 822, 823, 824, 825, 826, 827, 828, 829, 830, 831, 832, 833, 834, 835, 836, 837, 838, 839, 840, 841, 842, 843, 844, 845, 846, 847, 848, 849, 850, 851, 852, 853, 854, 855, 856, 857, 858, 859, 860, 861, 862, 863, 864, 865, 866, 867, 868, 869, 870, 871, 872, 873, 874, 875, 876, 877, 878, 879, 880, 881, 882, 883, 884, 885, 886, 887, 888, 889, 890, 891, 892, 893, 894, 895, 896, 897, 898, 899]\n",
            "[900, 901, 902, 903, 904, 905, 906, 907, 908, 909, 910, 911, 912, 913, 914, 915, 916, 917, 918, 919, 920, 921, 922, 923, 924, 925, 926, 927, 928, 929, 930, 931, 932, 933, 934, 935, 936, 937, 938, 939, 940, 941, 942, 943, 944, 945, 946, 947, 948, 949, 950, 951, 952, 953, 954, 955, 956, 957, 958, 959, 960, 961, 962, 963, 964, 965, 966, 967, 968, 969, 970, 971, 972, 973, 974, 975, 976, 977, 978, 979, 980, 981, 982, 983, 984, 985, 986, 987, 988, 989, 990, 991, 992, 993, 994, 995, 996, 997, 998, 999]\n",
            "{0, 1, 2, 3, 4, 5, 6, 7, 8, 9, 10}\n"
          ]
        }
      ]
    },
    {
      "cell_type": "code",
      "source": [
        "import datetime as dt\n",
        "date = dt.datetime.strptime('2024-10-09', '%Y-%m-%d')\n",
        "print(date)\n",
        "\n",
        "print(dt.datetime.utcnow())"
      ],
      "metadata": {
        "colab": {
          "base_uri": "https://localhost:8080/"
        },
        "id": "WSlkBXMWpVLx",
        "outputId": "6038d101-79b9-4408-c670-28ca81734641"
      },
      "execution_count": 15,
      "outputs": [
        {
          "output_type": "stream",
          "name": "stdout",
          "text": [
            "2024-10-09 00:00:00\n",
            "2024-10-03 09:33:36.619960\n"
          ]
        }
      ]
    },
    {
      "cell_type": "code",
      "source": [
        "fbp_market_dict = {\n",
        "            'fbp_anz': ['AUS', 'NZL'],\n",
        "            'fbp_hkmo': ['HKG', 'MAC'],\n",
        "            'fbp_sgp': ['SGP'],\n",
        "            'fbp_mys': ['MYS'],\n",
        "            'fbp_tha': ['THA'],\n",
        "            'fbp_twn': ['TWN'],\n",
        "            'fbp_vnm': ['VNM'],\n",
        "            'fbp_idn': ['IDN'],\n",
        "            'fbp_kor': ['KOR']\n",
        "}\n",
        "reference_target = 'fbp_twn'\n",
        "\n",
        "print(fbp_market_dict.keys())\n",
        "if reference_target in fbp_market_dict:\n",
        "    market = fbp_market_dict[reference_target]\n",
        "    region = reference_target.split('_')[1].upper()\n",
        "\n",
        "    print(market)"
      ],
      "metadata": {
        "colab": {
          "base_uri": "https://localhost:8080/"
        },
        "id": "I52d0XiX9ko6",
        "outputId": "d41ad0d4-9ab3-4e7b-804e-de442700d3bc"
      },
      "execution_count": 5,
      "outputs": [
        {
          "output_type": "stream",
          "name": "stdout",
          "text": [
            "dict_keys(['fbp_anz', 'fbp_hkmo', 'fbp_sgp', 'fbp_mys', 'fbp_tha', 'fbp_twn', 'fbp_vnm', 'fbp_idn', 'fbp_kor'])\n",
            "['TWN']\n"
          ]
        }
      ]
    }
  ],
  "metadata": {
    "colab": {
      "provenance": [],
      "authorship_tag": "ABX9TyO/jMfEW224nyLAh//Ah4J4",
      "include_colab_link": true
    },
    "kernelspec": {
      "display_name": "Python 3",
      "name": "python3"
    },
    "language_info": {
      "name": "python"
    }
  },
  "nbformat": 4,
  "nbformat_minor": 0
}